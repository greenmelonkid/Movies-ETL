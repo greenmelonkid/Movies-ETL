{
 "cells": [
  {
   "cell_type": "code",
   "execution_count": 8,
   "metadata": {},
   "outputs": [],
   "source": [
    "import json"
   ]
  },
  {
   "cell_type": "code",
   "execution_count": 10,
   "metadata": {},
   "outputs": [
    {
     "ename": "SyntaxError",
     "evalue": "invalid syntax (2375744822.py, line 1)",
     "output_type": "error",
     "traceback": [
      "\u001b[1;36m  File \u001b[1;32m\"C:\\Users\\lag86\\AppData\\Local\\Temp\\ipykernel_22408\\2375744822.py\"\u001b[1;36m, line \u001b[1;32m1\u001b[0m\n\u001b[1;33m    def read_ipynb('C:\\Users\\lag86\\OneDrive\\Desktop\\BOOTCAMP STUFF\\Asynchronous---Challenge\\Module 8 - ETL\\Movies-ETL\\Transform_merge_movielens.ipynb'):\u001b[0m\n\u001b[1;37m                                                                                                                                                     ^\u001b[0m\n\u001b[1;31mSyntaxError\u001b[0m\u001b[1;31m:\u001b[0m invalid syntax\n"
     ]
    }
   ],
   "source": [
    "def read_ipynb('C:\\Users\\lag86\\OneDrive\\Desktop\\BOOTCAMP STUFF\\Asynchronous---Challenge\\Module 8 - ETL\\Movies-ETL\\Transform_merge_movielens.ipynb'):\n",
    "    with open('C:\\Users\\lag86\\OneDrive\\Desktop\\BOOTCAMP STUFF\\Asynchronous---Challenge\\Module 8 - ETL\\Movies-ETL\\Transform_merge_movielens.ipynb', 'r', encoding='utf-8') as f:\n",
    "        return json.load(f)"
   ]
  },
  {
   "cell_type": "code",
   "execution_count": 9,
   "metadata": {},
   "outputs": [
    {
     "ename": "NameError",
     "evalue": "name 'read_ipynb' is not defined",
     "output_type": "error",
     "traceback": [
      "\u001b[1;31m---------------------------------------------------------------------------\u001b[0m",
      "\u001b[1;31mNameError\u001b[0m                                 Traceback (most recent call last)",
      "\u001b[1;32m~\\AppData\\Local\\Temp\\ipykernel_22408\\907121956.py\u001b[0m in \u001b[0;36m<module>\u001b[1;34m\u001b[0m\n\u001b[1;32m----> 1\u001b[1;33m \u001b[0mtransform_notebook\u001b[0m \u001b[1;33m=\u001b[0m \u001b[0mread_ipynb\u001b[0m\u001b[1;33m(\u001b[0m\u001b[1;34m'Transform.ipynb'\u001b[0m\u001b[1;33m)\u001b[0m\u001b[1;33m\u001b[0m\u001b[1;33m\u001b[0m\u001b[0m\n\u001b[0m\u001b[0;32m      2\u001b[0m \u001b[0mmovielens_extract_notebook\u001b[0m \u001b[1;33m=\u001b[0m \u001b[0mread_ipynb\u001b[0m\u001b[1;33m(\u001b[0m\u001b[1;34m'Movielens_Extract.ipynb'\u001b[0m\u001b[1;33m)\u001b[0m\u001b[1;33m\u001b[0m\u001b[1;33m\u001b[0m\u001b[0m\n",
      "\u001b[1;31mNameError\u001b[0m: name 'read_ipynb' is not defined"
     ]
    }
   ],
   "source": [
    "transform_notebook = read_ipynb('Transform.ipynb')\n",
    "movielens_extract_notebook = read_ipynb('Movielens_Extract.ipynb')\n"
   ]
  },
  {
   "cell_type": "code",
   "execution_count": null,
   "metadata": {},
   "outputs": [],
   "source": []
  }
 ],
 "metadata": {
  "kernelspec": {
   "display_name": "Python 3 (ipykernel)",
   "language": "python",
   "name": "python3"
  },
  "language_info": {
   "codemirror_mode": {
    "name": "ipython",
    "version": 3
   },
   "file_extension": ".py",
   "mimetype": "text/x-python",
   "name": "python",
   "nbconvert_exporter": "python",
   "pygments_lexer": "ipython3",
   "version": "3.7.6"
  }
 },
 "nbformat": 4,
 "nbformat_minor": 4
}
